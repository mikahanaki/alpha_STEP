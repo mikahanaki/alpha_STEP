{
  "nbformat": 4,
  "nbformat_minor": 0,
  "metadata": {
    "colab": {
      "name": "dansa.ipynb",
      "provenance": [],
      "collapsed_sections": [],
      "authorship_tag": "ABX9TyOyXhGFEqdJEu1pvYFZF9dU",
      "include_colab_link": true
    },
    "kernelspec": {
      "name": "python3",
      "display_name": "Python 3"
    },
    "language_info": {
      "name": "python"
    }
  },
  "cells": [
    {
      "cell_type": "markdown",
      "metadata": {
        "id": "view-in-github",
        "colab_type": "text"
      },
      "source": [
        "<a href=\"https://colab.research.google.com/github/mikahanaki/alpha_STEP/blob/main/dansa.ipynb\" target=\"_parent\"><img src=\"https://colab.research.google.com/assets/colab-badge.svg\" alt=\"Open In Colab\"/></a>"
      ]
    },
    {
      "cell_type": "markdown",
      "source": [
        "## ｻﾝﾌﾟﾙﾃﾞｰﾀを読み込む\n",
        "\n",
        "---\n",
        "\n",
        "Githubからデータをクローン\n",
        "\n",
        "カレントディレクトリを\"dana_python\"に移動して、\n",
        "\n",
        "\"dansa.py\"と\"dansa.txt\"と同じディレクトリに移動"
      ],
      "metadata": {
        "id": "0Vl0Oe1nsiJY"
      }
    },
    {
      "cell_type": "code",
      "source": [
        "!git clone https://github.com/mikahanaki/alpha_STEP.git\n",
        "%cd alpha_STEP/dansa_python"
      ],
      "metadata": {
        "colab": {
          "base_uri": "https://localhost:8080/"
        },
        "id": "yKo3WS5Sl7BD",
        "outputId": "63c8edc2-885b-431d-bac9-9b16164a8557"
      },
      "execution_count": null,
      "outputs": [
        {
          "output_type": "stream",
          "name": "stdout",
          "text": [
            "Cloning into 'alpha_STEP'...\n",
            "remote: Enumerating objects: 32, done.\u001b[K\n",
            "remote: Counting objects: 100% (32/32), done.\u001b[K\n",
            "remote: Compressing objects: 100% (29/29), done.\u001b[K\n",
            "remote: Total 32 (delta 6), reused 0 (delta 0), pack-reused 0\u001b[K\n",
            "Unpacking objects: 100% (32/32), done.\n",
            "/content/alpha_STEP/dansa_python\n"
          ]
        }
      ]
    },
    {
      "cell_type": "markdown",
      "source": [
        "## 段差計ﾃﾞｰﾀをグラフ化・アウトプット\n",
        "\n",
        "Google Colabの標準ではinstallされていないライブラリは，行頭に「!（エクスクラメーション・マーク）」のあとに「pip install ライブラリ名」で使えるようになる。\n",
        "\n",
        "\n",
        "---\n",
        "\n"
      ],
      "metadata": {
        "id": "ycBoNoRTsqRb"
      }
    },
    {
      "cell_type": "code",
      "execution_count": null,
      "metadata": {
        "id": "ikQjzC9LlrJc",
        "colab": {
          "base_uri": "https://localhost:8080/",
          "height": 641
        },
        "outputId": "a54c0af0-759b-4bae-d87c-654fd5262479"
      },
      "outputs": [
        {
          "output_type": "stream",
          "name": "stdout",
          "text": [
            "Collecting japanize-matplotlib\n",
            "  Downloading japanize-matplotlib-1.1.3.tar.gz (4.1 MB)\n",
            "\u001b[K     |████████████████████████████████| 4.1 MB 3.6 MB/s \n",
            "\u001b[?25hRequirement already satisfied: matplotlib in /usr/local/lib/python3.7/dist-packages (from japanize-matplotlib) (3.2.2)\n",
            "Requirement already satisfied: python-dateutil>=2.1 in /usr/local/lib/python3.7/dist-packages (from matplotlib->japanize-matplotlib) (2.8.2)\n",
            "Requirement already satisfied: cycler>=0.10 in /usr/local/lib/python3.7/dist-packages (from matplotlib->japanize-matplotlib) (0.11.0)\n",
            "Requirement already satisfied: pyparsing!=2.0.4,!=2.1.2,!=2.1.6,>=2.0.1 in /usr/local/lib/python3.7/dist-packages (from matplotlib->japanize-matplotlib) (3.0.8)\n",
            "Requirement already satisfied: numpy>=1.11 in /usr/local/lib/python3.7/dist-packages (from matplotlib->japanize-matplotlib) (1.21.6)\n",
            "Requirement already satisfied: kiwisolver>=1.0.1 in /usr/local/lib/python3.7/dist-packages (from matplotlib->japanize-matplotlib) (1.4.2)\n",
            "Requirement already satisfied: typing-extensions in /usr/local/lib/python3.7/dist-packages (from kiwisolver>=1.0.1->matplotlib->japanize-matplotlib) (4.2.0)\n",
            "Requirement already satisfied: six>=1.5 in /usr/local/lib/python3.7/dist-packages (from python-dateutil>=2.1->matplotlib->japanize-matplotlib) (1.15.0)\n",
            "Building wheels for collected packages: japanize-matplotlib\n",
            "  Building wheel for japanize-matplotlib (setup.py) ... \u001b[?25l\u001b[?25hdone\n",
            "  Created wheel for japanize-matplotlib: filename=japanize_matplotlib-1.1.3-py3-none-any.whl size=4120275 sha256=f2f4668cd63088204e1b4f0b7bbff52d0af3d1a2d9001561345aabed4f594bd5\n",
            "  Stored in directory: /root/.cache/pip/wheels/83/97/6b/e9e0cde099cc40f972b8dd23367308f7705ae06cd6d4714658\n",
            "Successfully built japanize-matplotlib\n",
            "Installing collected packages: japanize-matplotlib\n",
            "Successfully installed japanize-matplotlib-1.1.3\n"
          ]
        },
        {
          "output_type": "display_data",
          "data": {
            "text/plain": [
              "<Figure size 720x288 with 1 Axes>"
            ],
            "image/png": "[encoded data removed]"
          },
          "metadata": {
            "needs_background": "light"
          }
        },
        {
          "output_type": "stream",
          "name": "stdout",
          "text": [
            "x:[-0.0248447,0.5217387],y:[-0.00020725000000000002,0.00017225]\n",
            "file_out.csvへの出力完了\n"
          ]
        }
      ],
      "source": [
        "# -*- coding: utf-8 -*-\n",
        "\n",
        "#数値処理\n",
        "import numpy as np\n",
        "\n",
        "#データの可視化\n",
        "from matplotlib import pyplot as plt\n",
        "\n",
        "#madplotlibをColaboratoryで日本語表記する\n",
        "!pip install japanize-matplotlib\n",
        "import japanize_matplotlib\n",
        "\n",
        "#\"output\"ﾌｫﾙﾀﾞを作成\n",
        "import os\n",
        "dirname = \"output/\"\n",
        "os.makedirs(dirname, exist_ok=True) #既にﾌｫﾙﾀﾞが存在していてもERRORでない\n",
        "\n",
        "#textﾃﾞｰﾀから値を読み込む（ファイル名、スキップする行、列単位でひとくくりにする）\n",
        "#段差計ﾃﾞｰﾀはutf-8なのでそのまま使える\n",
        "dansa01_axis1, dansa_value1= np.loadtxt(\"dansa.txt\",skiprows=0,unpack=True)\n",
        "\n",
        "#グラフ表示エリアの範囲設定（X方向,Y方向）単位はインチ\n",
        "fig = plt.figure(figsize=(10, 4))\n",
        "\n",
        "#グラフを何個表示して、何個目にプロットするか\n",
        "ax = fig.add_subplot(111)\n",
        "\n",
        "#グラフのマーカー、色、ラベルの設定\n",
        "ax.plot(dansa01_axis1, dansa_value1, \"-\", color=\"k\", label=\"段差ﾃﾞｰﾀ\")\n",
        "\n",
        "#軸のラベル設定\n",
        "ax.set_xlabel(\"走査距離/mm\")\n",
        "ax.set_ylabel(\"高さ/mm\")\n",
        "\n",
        "#凡例の表示位置\n",
        "ax.legend(loc=\"upper left\")\n",
        "\n",
        "#グリッドを表示しています。\n",
        "plt.grid()\n",
        "\n",
        "#グラフを表示\n",
        "plt.show()\n",
        "\n",
        "# グラフをimg.pngという名前の画像ファイルとして保存\n",
        "#fig.savefig(\"img.png\")\n",
        "filename = dirname + \"img.png\"\n",
        "fig.savefig(filename)\n",
        "\n",
        "#描画範囲を取得する\n",
        "xmin, xmax = ax.get_xlim()\n",
        "ymin, ymax = ax.get_ylim()\n",
        "print(f\"x:[{xmin},{xmax}],y:[{ymin},{ymax}]\")\n",
        "\n",
        "\n",
        "#テキストデータをcsvに変換して出力する\n",
        "import pandas as pd\n",
        "read_text_file = pd.read_csv (r\"dansa.txt\")\n",
        "read_text_file.to_csv (r\"dansa.csv\",  index=None)\n",
        "\n",
        "#csvファイルのﾃﾞｰﾀをタブで区切って\"dansa_out.csv\"として出力\n",
        "import csv\n",
        "with open('dansa.csv', 'r', newline='') as filein, \\\n",
        "        open('output\\dansa_out.csv', 'w', newline='') as fileout:\n",
        " \n",
        "        reader = csv.reader(filein, delimiter='\\t', skipinitialspace=True)\n",
        "        writer = csv.writer(fileout)\n",
        " \n",
        "        writer.writerows(reader)\n",
        "        \n",
        "\n",
        "#不要になった”dansa.csv\"ファイルの削除\n",
        "os.remove('dansa.csv')\n",
        "\n",
        "print('file_out.csvへの出力完了')\n",
        "\n"
      ]
    }
  ]
}